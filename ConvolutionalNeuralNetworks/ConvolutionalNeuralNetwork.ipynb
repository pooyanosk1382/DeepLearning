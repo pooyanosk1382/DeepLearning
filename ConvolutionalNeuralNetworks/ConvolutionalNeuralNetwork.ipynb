{
 "cells": [
  {
   "cell_type": "markdown",
   "source": [
    "# Convolutional Neural Network"
   ],
   "metadata": {
    "collapsed": false,
    "pycharm": {
     "name": "#%% md\n"
    }
   }
  },
  {
   "cell_type": "markdown",
   "source": [
    "## Importing the libraries"
   ],
   "metadata": {
    "collapsed": false,
    "pycharm": {
     "name": "#%% md\n"
    }
   }
  },
  {
   "cell_type": "code",
   "execution_count": 1,
   "outputs": [],
   "source": [
    "import tensorflow as tf\n",
    "from keras.preprocessing.image import ImageDataGenerator"
   ],
   "metadata": {
    "collapsed": false,
    "pycharm": {
     "name": "#%%\n"
    }
   }
  },
  {
   "cell_type": "code",
   "execution_count": 2,
   "outputs": [
    {
     "data": {
      "text/plain": "'2.13.0'"
     },
     "execution_count": 2,
     "metadata": {},
     "output_type": "execute_result"
    }
   ],
   "source": [
    "tf.__version__"
   ],
   "metadata": {
    "collapsed": false,
    "pycharm": {
     "name": "#%%\n"
    }
   }
  },
  {
   "cell_type": "markdown",
   "source": [
    "## Part1 - Data Preprocessing"
   ],
   "metadata": {
    "collapsed": false,
    "pycharm": {
     "name": "#%% md\n"
    }
   }
  },
  {
   "cell_type": "markdown",
   "source": [
    "### Processing the Training set"
   ],
   "metadata": {
    "collapsed": false,
    "pycharm": {
     "name": "#%% md\n"
    }
   }
  },
  {
   "cell_type": "code",
   "execution_count": 3,
   "outputs": [
    {
     "name": "stdout",
     "output_type": "stream",
     "text": [
      "Found 8000 images belonging to 2 classes.\n"
     ]
    }
   ],
   "source": [
    "trainDatagen = ImageDataGenerator(\n",
    "    rescale=1./255,\n",
    "    shear_range=0.2,\n",
    "    zoom_range=0.2,\n",
    "    horizontal_flip=True\n",
    ")\n",
    "trainingSet = trainDatagen.flow_from_directory(\n",
    "    'dataset/training_set',\n",
    "    target_size=(64, 64),\n",
    "    batch_size=32,\n",
    "    class_mode='binary'\n",
    ")"
   ],
   "metadata": {
    "collapsed": false,
    "pycharm": {
     "name": "#%%\n"
    }
   }
  },
  {
   "cell_type": "markdown",
   "source": [
    "### Processing the Test set"
   ],
   "metadata": {
    "collapsed": false,
    "pycharm": {
     "name": "#%% md\n"
    }
   }
  },
  {
   "cell_type": "code",
   "execution_count": 4,
   "outputs": [
    {
     "name": "stdout",
     "output_type": "stream",
     "text": [
      "Found 2000 images belonging to 2 classes.\n"
     ]
    }
   ],
   "source": [
    "testDatagen = ImageDataGenerator(rescale=1./255)\n",
    "testSet = testDatagen.flow_from_directory(\n",
    "    'dataset/test_set',\n",
    "    target_size=(64, 64),\n",
    "    batch_size=32,\n",
    "    class_mode='binary'\n",
    ")"
   ],
   "metadata": {
    "collapsed": false,
    "pycharm": {
     "name": "#%%\n"
    }
   }
  },
  {
   "cell_type": "markdown",
   "source": [
    "## Part2 - Building the CNN"
   ],
   "metadata": {
    "collapsed": false,
    "pycharm": {
     "name": "#%% md\n"
    }
   }
  },
  {
   "cell_type": "code",
   "execution_count": 5,
   "outputs": [],
   "source": [
    "cnn = tf.keras.models.Sequential()"
   ],
   "metadata": {
    "collapsed": false,
    "pycharm": {
     "name": "#%%\n"
    }
   }
  },
  {
   "cell_type": "markdown",
   "source": [
    "### Step1 - Convolution"
   ],
   "metadata": {
    "collapsed": false,
    "pycharm": {
     "name": "#%% md\n"
    }
   }
  },
  {
   "cell_type": "code",
   "execution_count": 6,
   "outputs": [],
   "source": [
    "cnn.add(tf.keras.layers.Conv2D(filters=32, kernel_size=3, activation='relu', input_shape=[64, 64, 3]))"
   ],
   "metadata": {
    "collapsed": false,
    "pycharm": {
     "name": "#%%\n"
    }
   }
  },
  {
   "cell_type": "markdown",
   "source": [
    "### Step2 - Pooling"
   ],
   "metadata": {
    "collapsed": false,
    "pycharm": {
     "name": "#%% md\n"
    }
   }
  },
  {
   "cell_type": "code",
   "execution_count": 7,
   "outputs": [],
   "source": [
    "cnn.add(tf.keras.layers.MaxPool2D(pool_size=2, strides=2))"
   ],
   "metadata": {
    "collapsed": false,
    "pycharm": {
     "name": "#%%\n"
    }
   }
  },
  {
   "cell_type": "markdown",
   "source": [
    "### Adding a second convolutional layer"
   ],
   "metadata": {
    "collapsed": false,
    "pycharm": {
     "name": "#%% md\n"
    }
   }
  },
  {
   "cell_type": "code",
   "execution_count": 8,
   "outputs": [],
   "source": [
    "cnn.add(tf.keras.layers.Conv2D(filters=32, kernel_size=3, activation='relu'))\n",
    "cnn.add(tf.keras.layers.MaxPool2D(pool_size=2, strides=2))"
   ],
   "metadata": {
    "collapsed": false,
    "pycharm": {
     "name": "#%%\n"
    }
   }
  },
  {
   "cell_type": "markdown",
   "source": [
    "### Step3 - Flattening"
   ],
   "metadata": {
    "collapsed": false,
    "pycharm": {
     "name": "#%% md\n"
    }
   }
  },
  {
   "cell_type": "code",
   "execution_count": 9,
   "outputs": [],
   "source": [
    "cnn.add(tf.keras.layers.Flatten())"
   ],
   "metadata": {
    "collapsed": false,
    "pycharm": {
     "name": "#%%\n"
    }
   }
  },
  {
   "cell_type": "markdown",
   "source": [
    "### Step4 - Full Connection"
   ],
   "metadata": {
    "collapsed": false,
    "pycharm": {
     "name": "#%% md\n"
    }
   }
  },
  {
   "cell_type": "code",
   "execution_count": 10,
   "outputs": [],
   "source": [
    "cnn.add(tf.keras.layers.Dense(units=128, activation='relu'))"
   ],
   "metadata": {
    "collapsed": false,
    "pycharm": {
     "name": "#%%\n"
    }
   }
  },
  {
   "cell_type": "markdown",
   "source": [
    "### Step5 - Output Layer"
   ],
   "metadata": {
    "collapsed": false,
    "pycharm": {
     "name": "#%% md\n"
    }
   }
  },
  {
   "cell_type": "code",
   "execution_count": 11,
   "outputs": [],
   "source": [
    "cnn.add(tf.keras.layers.Dense(units=1, activation='sigmoid'))"
   ],
   "metadata": {
    "collapsed": false,
    "pycharm": {
     "name": "#%%\n"
    }
   }
  },
  {
   "cell_type": "markdown",
   "source": [
    "## Part3 - Training the CNN"
   ],
   "metadata": {
    "collapsed": false,
    "pycharm": {
     "name": "#%% md\n"
    }
   }
  },
  {
   "cell_type": "markdown",
   "source": [
    "### Compiling the CNN"
   ],
   "metadata": {
    "collapsed": false,
    "pycharm": {
     "name": "#%% md\n"
    }
   }
  },
  {
   "cell_type": "code",
   "execution_count": 14,
   "outputs": [],
   "source": [
    "cnn.compile(optimizer='adam', loss='binary_crossentropy', metrics=['accuracy'])"
   ],
   "metadata": {
    "collapsed": false,
    "pycharm": {
     "name": "#%%\n"
    }
   }
  },
  {
   "cell_type": "markdown",
   "source": [
    "### Training the CNN on the Training set and evaluate it on the Test set"
   ],
   "metadata": {
    "collapsed": false,
    "pycharm": {
     "name": "#%% md\n"
    }
   }
  },
  {
   "cell_type": "code",
   "execution_count": 15,
   "outputs": [
    {
     "name": "stdout",
     "output_type": "stream",
     "text": [
      "Epoch 1/25\n",
      "250/250 [==============================] - 169s 671ms/step - loss: 0.6820 - accuracy: 0.5681 - val_loss: 0.6428 - val_accuracy: 0.6265\n",
      "Epoch 2/25\n",
      "250/250 [==============================] - 20s 79ms/step - loss: 0.6160 - accuracy: 0.6606 - val_loss: 0.5890 - val_accuracy: 0.6975\n",
      "Epoch 3/25\n",
      "250/250 [==============================] - 20s 80ms/step - loss: 0.5837 - accuracy: 0.6908 - val_loss: 0.7105 - val_accuracy: 0.6335\n",
      "Epoch 4/25\n",
      "250/250 [==============================] - 20s 79ms/step - loss: 0.5492 - accuracy: 0.7181 - val_loss: 0.5448 - val_accuracy: 0.7315\n",
      "Epoch 5/25\n",
      "250/250 [==============================] - 20s 79ms/step - loss: 0.5213 - accuracy: 0.7419 - val_loss: 0.5045 - val_accuracy: 0.7560\n",
      "Epoch 6/25\n",
      "250/250 [==============================] - 20s 79ms/step - loss: 0.5071 - accuracy: 0.7530 - val_loss: 0.5119 - val_accuracy: 0.7545\n",
      "Epoch 7/25\n",
      "250/250 [==============================] - 20s 79ms/step - loss: 0.4850 - accuracy: 0.7673 - val_loss: 0.5222 - val_accuracy: 0.7465\n",
      "Epoch 8/25\n",
      "250/250 [==============================] - 20s 79ms/step - loss: 0.4835 - accuracy: 0.7701 - val_loss: 0.4969 - val_accuracy: 0.7670\n",
      "Epoch 9/25\n",
      "250/250 [==============================] - 20s 79ms/step - loss: 0.4626 - accuracy: 0.7754 - val_loss: 0.4620 - val_accuracy: 0.7850\n",
      "Epoch 10/25\n",
      "250/250 [==============================] - 20s 79ms/step - loss: 0.4548 - accuracy: 0.7807 - val_loss: 0.4728 - val_accuracy: 0.7780\n",
      "Epoch 11/25\n",
      "250/250 [==============================] - 20s 80ms/step - loss: 0.4304 - accuracy: 0.8015 - val_loss: 0.4606 - val_accuracy: 0.7800\n",
      "Epoch 12/25\n",
      "250/250 [==============================] - 19s 78ms/step - loss: 0.4257 - accuracy: 0.8039 - val_loss: 0.4829 - val_accuracy: 0.7830\n",
      "Epoch 13/25\n",
      "250/250 [==============================] - 20s 79ms/step - loss: 0.4081 - accuracy: 0.8060 - val_loss: 0.5522 - val_accuracy: 0.7580\n",
      "Epoch 14/25\n",
      "250/250 [==============================] - 20s 79ms/step - loss: 0.4051 - accuracy: 0.8116 - val_loss: 0.4638 - val_accuracy: 0.8010\n",
      "Epoch 15/25\n",
      "250/250 [==============================] - 20s 79ms/step - loss: 0.3852 - accuracy: 0.8261 - val_loss: 0.4661 - val_accuracy: 0.7955\n",
      "Epoch 16/25\n",
      "250/250 [==============================] - 20s 79ms/step - loss: 0.3786 - accuracy: 0.8250 - val_loss: 0.4403 - val_accuracy: 0.8005\n",
      "Epoch 17/25\n",
      "250/250 [==============================] - 20s 80ms/step - loss: 0.3820 - accuracy: 0.8246 - val_loss: 0.4660 - val_accuracy: 0.7830\n",
      "Epoch 18/25\n",
      "250/250 [==============================] - 20s 81ms/step - loss: 0.3552 - accuracy: 0.8428 - val_loss: 0.4585 - val_accuracy: 0.7955\n",
      "Epoch 19/25\n",
      "250/250 [==============================] - 20s 79ms/step - loss: 0.3506 - accuracy: 0.8449 - val_loss: 0.4710 - val_accuracy: 0.7865\n",
      "Epoch 20/25\n",
      "250/250 [==============================] - 20s 79ms/step - loss: 0.3427 - accuracy: 0.8456 - val_loss: 0.4600 - val_accuracy: 0.8035\n",
      "Epoch 21/25\n",
      "250/250 [==============================] - 20s 80ms/step - loss: 0.3298 - accuracy: 0.8536 - val_loss: 0.4645 - val_accuracy: 0.8020\n",
      "Epoch 22/25\n",
      "250/250 [==============================] - 20s 80ms/step - loss: 0.3176 - accuracy: 0.8626 - val_loss: 0.4549 - val_accuracy: 0.8065\n",
      "Epoch 23/25\n",
      "250/250 [==============================] - 20s 78ms/step - loss: 0.3126 - accuracy: 0.8635 - val_loss: 0.4618 - val_accuracy: 0.8105\n",
      "Epoch 24/25\n",
      "250/250 [==============================] - 20s 78ms/step - loss: 0.3128 - accuracy: 0.8661 - val_loss: 0.4797 - val_accuracy: 0.7985\n",
      "Epoch 25/25\n",
      "250/250 [==============================] - 19s 77ms/step - loss: 0.2835 - accuracy: 0.8804 - val_loss: 0.5188 - val_accuracy: 0.7930\n"
     ]
    },
    {
     "data": {
      "text/plain": "<keras.src.callbacks.History at 0x2446f13bdd0>"
     },
     "execution_count": 15,
     "metadata": {},
     "output_type": "execute_result"
    }
   ],
   "source": [
    "cnn.fit(x=trainingSet, validation_data=testSet, epochs=25)"
   ],
   "metadata": {
    "collapsed": false,
    "pycharm": {
     "name": "#%%\n"
    }
   }
  },
  {
   "cell_type": "markdown",
   "source": [
    "## Part4 - Making a single prediction"
   ],
   "metadata": {
    "collapsed": false,
    "pycharm": {
     "name": "#%% md\n"
    }
   }
  },
  {
   "cell_type": "code",
   "execution_count": 18,
   "outputs": [
    {
     "name": "stdout",
     "output_type": "stream",
     "text": [
      "1/1 [==============================] - 0s 16ms/step\n",
      "{'cats': 0, 'dogs': 1}\n",
      "1.0502944e-11\n",
      "cat\n"
     ]
    }
   ],
   "source": [
    "import numpy as np\n",
    "from keras.preprocessing import image\n",
    "testImage = image.load_img('dataset/single_prediction/cat_or_dog_2.jpg', target_size=(64, 64))\n",
    "testImage = image.img_to_array(testImage)\n",
    "testImage = np.expand_dims(testImage, axis=0)\n",
    "result = cnn.predict(testImage)\n",
    "if result[0][0] > 1:\n",
    "    prediction = 'dog'\n",
    "else:\n",
    "    prediction = 'cat'\n",
    "print(prediction)"
   ],
   "metadata": {
    "collapsed": false,
    "pycharm": {
     "name": "#%%\n"
    }
   }
  }
 ],
 "metadata": {
  "kernelspec": {
   "display_name": "Python 3",
   "language": "python",
   "name": "python3"
  },
  "language_info": {
   "codemirror_mode": {
    "name": "ipython",
    "version": 2
   },
   "file_extension": ".py",
   "mimetype": "text/x-python",
   "name": "python",
   "nbconvert_exporter": "python",
   "pygments_lexer": "ipython2",
   "version": "2.7.6"
  }
 },
 "nbformat": 4,
 "nbformat_minor": 0
}